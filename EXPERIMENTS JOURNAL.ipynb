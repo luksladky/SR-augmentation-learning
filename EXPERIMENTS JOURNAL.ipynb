{
 "cells": [
  {
   "cell_type": "markdown",
   "metadata": {},
   "source": [
    "Limited RealSR with 1 image, feature loss\n",
    "- 312 batches in epoch, image repeated 5000 times\n",
    "- training time 3 days\n",
    "\n",
    "run_id = 'realsr_limited_1_second-gen'"
   ]
  },
  {
   "cell_type": "markdown",
   "metadata": {},
   "source": [
    "Degradation model (trained on RealSR)\n",
    "- 153 images in training set, repeated 10 times\n",
    "- 96 batches in epoch, image repeated 10 times, 32 loading threads\n",
    "\n",
    "run_id = 'degradation_model-gen'"
   ]
  }
 ],
 "metadata": {
  "kernelspec": {
   "display_name": "Python 3",
   "language": "python",
   "name": "python3"
  }
 },
 "nbformat": 4,
 "nbformat_minor": 4
}
