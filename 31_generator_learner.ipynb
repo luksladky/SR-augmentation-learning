{
 "cells": [
  {
   "cell_type": "code",
   "execution_count": null,
   "metadata": {},
   "outputs": [
    {
     "name": "stdout",
     "output_type": "stream",
     "text": [
      "Cells will be exported to srthesis.model,\n",
      "unless a different module is specified after an export flag: `%nbdev_export special.module`\n"
     ]
    }
   ],
   "source": [
    "from nbdev import *\n",
    "%nbdev_default_export model"
   ]
  },
  {
   "cell_type": "markdown",
   "metadata": {},
   "source": [
    "# Generator learner"
   ]
  },
  {
   "cell_type": "code",
   "execution_count": null,
   "metadata": {},
   "outputs": [
    {
     "name": "stdout",
     "output_type": "stream",
     "text": [
      "Setting up Perceptual loss...\n",
      "Loading model from: /home/luslad/thesis/PerceptualSimilarity/models/weights/v0.1/alex.pth\n",
      "...[net-lin [alex]] initialized\n",
      "...Done\n"
     ]
    }
   ],
   "source": [
    "%nbdev_export_internal\n",
    "from fastai.vision import *\n",
    "from fastai.callbacks import *\n",
    "\n",
    "from srthesis.loss import *\n",
    "from srthesis.metrics import *"
   ]
  },
  {
   "cell_type": "code",
   "execution_count": null,
   "metadata": {},
   "outputs": [],
   "source": [
    "%nbdev_export\n",
    "def create_loss_func(name:str='feature'):\n",
    "    if name == 'feature':\n",
    "        return FeatureLoss(layer_wgts=[5,15,2])\n",
    "    if name == 'l1':\n",
    "        return l1_loss\n",
    "    \n",
    "    raise ValueError('Possible loss functions: \"l1\", \"feature\"')"
   ]
  },
  {
   "cell_type": "code",
   "execution_count": null,
   "metadata": {},
   "outputs": [],
   "source": [
    "%nbdev_export\n",
    "def create_learner(data:ImageDataBunch, \n",
    "                   arch = models.resnet34,\n",
    "                   regularizations=True,\n",
    "                   wd = 1e-3,\n",
    "                   loss_type='feature',\n",
    "                   metrics=[AverageMetric(PSNR), AverageMetric(SSIM), AverageMetric(LPIPS)],\n",
    "                   pretrained=True,\n",
    "                   callback_fns=[LossMetrics], **kwargs):\n",
    "    if regularizations:\n",
    "        norm_type = NormType.Weight\n",
    "        wd = wd\n",
    "    else:\n",
    "        norm_type = None\n",
    "    \n",
    "    learn_gen = unet_learner(data, arch, wd=wd, loss_func=create_loss_func(loss_type), metrics=metrics, pretrained=pretrained, \n",
    "                             callback_fns=[LossMetrics, ShowGraph],\n",
    "                             blur=True, norm_type=NormType.Weight, **kwargs)\n",
    "    learn_gen.path = data.path\n",
    "    return learn_gen\n",
    "    "
   ]
  },
  {
   "cell_type": "code",
   "execution_count": null,
   "metadata": {},
   "outputs": [
    {
     "name": "stdout",
     "output_type": "stream",
     "text": [
      "Converted 00_core.ipynb.\n",
      "Converted 01_utils.ipynb.\n",
      "Converted 0__template.ipynb.\n",
      "Converted 10_data.ipynb.\n",
      "Converted 11_div2k.ipynb.\n",
      "Converted 12_realsr.ipynb.\n",
      "Converted 13_dataset_generation.ipynb.\n",
      "Converted 20_metrics.ipynb.\n",
      "Converted 21_loss.ipynb.\n",
      "Converted 22_callbacks.ipynb.\n",
      "Converted 23_tensorboard.ipynb.\n",
      "Converted 31_generator_learner.ipynb.\n",
      "Converted 32_critic_learner.ipynb.\n",
      "Converted 41_generator_pretraining.ipynb.\n",
      "Converted 42_critic_pretraining.ipynb.\n",
      "Converted 43_gan_training.ipynb.\n",
      "Converted EXPERIMENTS JOURNAL.ipynb.\n",
      "Converted augmentations.ipynb.\n",
      "Converted graphs-tests.ipynb.\n",
      "Converted sr reference.ipynb.\n"
     ]
    }
   ],
   "source": [
    "%nbdev_hide\n",
    "notebook2script()"
   ]
  },
  {
   "cell_type": "code",
   "execution_count": null,
   "metadata": {},
   "outputs": [],
   "source": []
  },
  {
   "cell_type": "code",
   "execution_count": null,
   "metadata": {},
   "outputs": [],
   "source": []
  },
  {
   "cell_type": "code",
   "execution_count": null,
   "metadata": {},
   "outputs": [],
   "source": []
  }
 ],
 "metadata": {
  "kernelspec": {
   "display_name": "Python 3",
   "language": "python",
   "name": "python3"
  }
 },
 "nbformat": 4,
 "nbformat_minor": 4
}
