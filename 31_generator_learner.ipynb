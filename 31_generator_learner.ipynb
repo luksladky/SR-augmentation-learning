{
 "cells": [
  {
   "cell_type": "code",
   "execution_count": null,
   "metadata": {},
   "outputs": [
    {
     "name": "stdout",
     "output_type": "stream",
     "text": [
      "Cells will be exported to srthesis.model,\n",
      "unless a different module is specified after an export flag: `%nbdev_export special.module`\n"
     ]
    }
   ],
   "source": [
    "from nbdev import *\n",
    "%nbdev_default_export model"
   ]
  },
  {
   "cell_type": "markdown",
   "metadata": {},
   "source": [
    "# Generator learner"
   ]
  },
  {
   "cell_type": "code",
   "execution_count": null,
   "metadata": {},
   "outputs": [],
   "source": [
    "%nbdev_export_internal\n",
    "from fastai.vision import *\n",
    "from fastai.callbacks import *\n",
    "\n",
    "from srthesis.loss import *\n",
    "from srthesis.metrics import *"
   ]
  },
  {
   "cell_type": "code",
   "execution_count": null,
   "metadata": {},
   "outputs": [],
   "source": [
    "%nbdev_export\n",
    "def create_generator_learner(data:ImageDataBunch, \n",
    "                            arch = models.resnet34,\n",
    "                            wd = 1e-3,\n",
    "                            loss_func=FeatureLoss(layer_wgts=[5,15,2]),\n",
    "                            metrics=[AverageMetric(PSNR), AverageMetric(SSIM), AverageMetric(LPIPS)],\n",
    "                            callback_fns=[LossMetrics, ShowGraph]):\n",
    "    learn_gen = unet_learner(data, arch, wd=wd, loss_func=feat_loss, metrics=metrics, callback_fns=callback_fns,\n",
    "                         blur=True, norm_type=NormType.Weight)\n",
    "    learn_gen.path = data.path\n",
    "    return learn_gen\n",
    "    "
   ]
  },
  {
   "cell_type": "code",
   "execution_count": null,
   "metadata": {},
   "outputs": [
    {
     "name": "stdout",
     "output_type": "stream",
     "text": [
      "Converted 00_core.ipynb.\n",
      "Converted 01_utils.ipynb.\n",
      "Converted 0__template.ipynb.\n",
      "Converted 10_data.ipynb.\n",
      "Converted 11_div2k.ipynb.\n",
      "Converted 12_realsr.ipynb.\n",
      "Converted 20_metrics.ipynb.\n",
      "Converted 21_loss.ipynb.\n",
      "Converted 22_callbacks.ipynb.\n",
      "Converted 23_tensorboard.ipynb.\n",
      "Converted 31_generator_learner.ipynb.\n",
      "Converted 32_critic_learner.ipynb.\n",
      "Converted 41_generator_pretraining.ipynb.\n",
      "Converted 42_critic_pretraining.ipynb.\n",
      "Converted 43_gan_training.ipynb.\n",
      "Converted augmentations.ipynb.\n",
      "Converted sr reference.ipynb.\n"
     ]
    }
   ],
   "source": [
    "%nbdev_hide\n",
    "notebook2script()"
   ]
  },
  {
   "cell_type": "code",
   "execution_count": null,
   "metadata": {},
   "outputs": [],
   "source": []
  },
  {
   "cell_type": "code",
   "execution_count": null,
   "metadata": {},
   "outputs": [],
   "source": []
  },
  {
   "cell_type": "code",
   "execution_count": null,
   "metadata": {},
   "outputs": [],
   "source": []
  }
 ],
 "metadata": {
  "kernelspec": {
   "display_name": "Python 3",
   "language": "python",
   "name": "python3"
  }
 },
 "nbformat": 4,
 "nbformat_minor": 4
}
