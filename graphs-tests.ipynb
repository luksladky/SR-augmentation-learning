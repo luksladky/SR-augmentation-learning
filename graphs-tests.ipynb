{
 "cells": [
  {
   "cell_type": "code",
   "execution_count": null,
   "metadata": {},
   "outputs": [],
   "source": [
    "import pandas as pd\n",
    "import matplotlib.pyplot as plt\n",
    "import numpy as np"
   ]
  },
  {
   "cell_type": "code",
   "execution_count": null,
   "metadata": {},
   "outputs": [
    {
     "data": {
      "text/html": [
       "<div>\n",
       "<style scoped>\n",
       "    .dataframe tbody tr th:only-of-type {\n",
       "        vertical-align: middle;\n",
       "    }\n",
       "\n",
       "    .dataframe tbody tr th {\n",
       "        vertical-align: top;\n",
       "    }\n",
       "\n",
       "    .dataframe thead th {\n",
       "        text-align: right;\n",
       "    }\n",
       "</style>\n",
       "<table border=\"1\" class=\"dataframe\">\n",
       "  <thead>\n",
       "    <tr style=\"text-align: right;\">\n",
       "      <th></th>\n",
       "      <th>epoch</th>\n",
       "      <th>train_loss</th>\n",
       "      <th>valid_loss</th>\n",
       "      <th>psnr</th>\n",
       "      <th>ssim</th>\n",
       "      <th>LPIPS</th>\n",
       "      <th>pixel</th>\n",
       "      <th>feat_0</th>\n",
       "      <th>feat_1</th>\n",
       "      <th>feat_2</th>\n",
       "      <th>time</th>\n",
       "    </tr>\n",
       "  </thead>\n",
       "  <tbody>\n",
       "    <tr>\n",
       "      <th>0</th>\n",
       "      <td>0</td>\n",
       "      <td>69.982056</td>\n",
       "      <td>66.588341</td>\n",
       "      <td>11.552646</td>\n",
       "      <td>0.227902</td>\n",
       "      <td>0.509939</td>\n",
       "      <td>0.916904</td>\n",
       "      <td>1.353081</td>\n",
       "      <td>1.733782</td>\n",
       "      <td>0.690820</td>\n",
       "      <td>00:14</td>\n",
       "    </tr>\n",
       "    <tr>\n",
       "      <th>1</th>\n",
       "      <td>1</td>\n",
       "      <td>67.700699</td>\n",
       "      <td>66.146347</td>\n",
       "      <td>11.618429</td>\n",
       "      <td>0.208460</td>\n",
       "      <td>0.541578</td>\n",
       "      <td>0.915416</td>\n",
       "      <td>1.391206</td>\n",
       "      <td>1.667946</td>\n",
       "      <td>0.669504</td>\n",
       "      <td>00:07</td>\n",
       "    </tr>\n",
       "    <tr>\n",
       "      <th>2</th>\n",
       "      <td>2</td>\n",
       "      <td>66.742432</td>\n",
       "      <td>60.607830</td>\n",
       "      <td>12.699129</td>\n",
       "      <td>0.221827</td>\n",
       "      <td>0.521751</td>\n",
       "      <td>0.824489</td>\n",
       "      <td>1.371619</td>\n",
       "      <td>1.652048</td>\n",
       "      <td>0.693634</td>\n",
       "      <td>00:07</td>\n",
       "    </tr>\n",
       "    <tr>\n",
       "      <th>3</th>\n",
       "      <td>3</td>\n",
       "      <td>69.256607</td>\n",
       "      <td>59.411491</td>\n",
       "      <td>12.382976</td>\n",
       "      <td>0.213753</td>\n",
       "      <td>0.480029</td>\n",
       "      <td>0.845591</td>\n",
       "      <td>1.307976</td>\n",
       "      <td>1.616015</td>\n",
       "      <td>0.686299</td>\n",
       "      <td>00:07</td>\n",
       "    </tr>\n",
       "    <tr>\n",
       "      <th>4</th>\n",
       "      <td>4</td>\n",
       "      <td>68.493393</td>\n",
       "      <td>57.470860</td>\n",
       "      <td>12.648698</td>\n",
       "      <td>0.238583</td>\n",
       "      <td>0.492367</td>\n",
       "      <td>0.839398</td>\n",
       "      <td>1.294298</td>\n",
       "      <td>1.638662</td>\n",
       "      <td>0.676745</td>\n",
       "      <td>00:08</td>\n",
       "    </tr>\n",
       "    <tr>\n",
       "      <th>...</th>\n",
       "      <td>...</td>\n",
       "      <td>...</td>\n",
       "      <td>...</td>\n",
       "      <td>...</td>\n",
       "      <td>...</td>\n",
       "      <td>...</td>\n",
       "      <td>...</td>\n",
       "      <td>...</td>\n",
       "      <td>...</td>\n",
       "      <td>...</td>\n",
       "      <td>...</td>\n",
       "    </tr>\n",
       "    <tr>\n",
       "      <th>60003</th>\n",
       "      <td>59993</td>\n",
       "      <td>15.427139</td>\n",
       "      <td>26.579803</td>\n",
       "      <td>29.799402</td>\n",
       "      <td>0.874518</td>\n",
       "      <td>0.075589</td>\n",
       "      <td>0.099332</td>\n",
       "      <td>0.767107</td>\n",
       "      <td>1.052795</td>\n",
       "      <td>0.439340</td>\n",
       "      <td>00:19</td>\n",
       "    </tr>\n",
       "    <tr>\n",
       "      <th>60004</th>\n",
       "      <td>59994</td>\n",
       "      <td>15.422163</td>\n",
       "      <td>26.608919</td>\n",
       "      <td>28.868120</td>\n",
       "      <td>0.852619</td>\n",
       "      <td>0.085972</td>\n",
       "      <td>0.109243</td>\n",
       "      <td>0.790571</td>\n",
       "      <td>1.032719</td>\n",
       "      <td>0.419757</td>\n",
       "      <td>00:20</td>\n",
       "    </tr>\n",
       "    <tr>\n",
       "      <th>60005</th>\n",
       "      <td>59995</td>\n",
       "      <td>15.414975</td>\n",
       "      <td>26.068295</td>\n",
       "      <td>29.883757</td>\n",
       "      <td>0.887346</td>\n",
       "      <td>0.067389</td>\n",
       "      <td>0.094542</td>\n",
       "      <td>0.772701</td>\n",
       "      <td>1.035106</td>\n",
       "      <td>0.410561</td>\n",
       "      <td>00:20</td>\n",
       "    </tr>\n",
       "    <tr>\n",
       "      <th>60006</th>\n",
       "      <td>59996</td>\n",
       "      <td>15.416068</td>\n",
       "      <td>26.387590</td>\n",
       "      <td>29.626726</td>\n",
       "      <td>0.885120</td>\n",
       "      <td>0.065861</td>\n",
       "      <td>0.096573</td>\n",
       "      <td>0.768672</td>\n",
       "      <td>1.042871</td>\n",
       "      <td>0.423606</td>\n",
       "      <td>00:21</td>\n",
       "    </tr>\n",
       "    <tr>\n",
       "      <th>60007</th>\n",
       "      <td>59997</td>\n",
       "      <td>15.426952</td>\n",
       "      <td>24.494179</td>\n",
       "      <td>30.203993</td>\n",
       "      <td>0.877605</td>\n",
       "      <td>0.075701</td>\n",
       "      <td>0.095067</td>\n",
       "      <td>0.754486</td>\n",
       "      <td>1.011761</td>\n",
       "      <td>0.366000</td>\n",
       "      <td>00:20</td>\n",
       "    </tr>\n",
       "  </tbody>\n",
       "</table>\n",
       "<p>60008 rows × 11 columns</p>\n",
       "</div>"
      ],
      "text/plain": [
       "       epoch  train_loss  valid_loss       psnr      ssim     LPIPS     pixel  \\\n",
       "0          0   69.982056   66.588341  11.552646  0.227902  0.509939  0.916904   \n",
       "1          1   67.700699   66.146347  11.618429  0.208460  0.541578  0.915416   \n",
       "2          2   66.742432   60.607830  12.699129  0.221827  0.521751  0.824489   \n",
       "3          3   69.256607   59.411491  12.382976  0.213753  0.480029  0.845591   \n",
       "4          4   68.493393   57.470860  12.648698  0.238583  0.492367  0.839398   \n",
       "...      ...         ...         ...        ...       ...       ...       ...   \n",
       "60003  59993   15.427139   26.579803  29.799402  0.874518  0.075589  0.099332   \n",
       "60004  59994   15.422163   26.608919  28.868120  0.852619  0.085972  0.109243   \n",
       "60005  59995   15.414975   26.068295  29.883757  0.887346  0.067389  0.094542   \n",
       "60006  59996   15.416068   26.387590  29.626726  0.885120  0.065861  0.096573   \n",
       "60007  59997   15.426952   24.494179  30.203993  0.877605  0.075701  0.095067   \n",
       "\n",
       "         feat_0    feat_1    feat_2   time  \n",
       "0      1.353081  1.733782  0.690820  00:14  \n",
       "1      1.391206  1.667946  0.669504  00:07  \n",
       "2      1.371619  1.652048  0.693634  00:07  \n",
       "3      1.307976  1.616015  0.686299  00:07  \n",
       "4      1.294298  1.638662  0.676745  00:08  \n",
       "...         ...       ...       ...    ...  \n",
       "60003  0.767107  1.052795  0.439340  00:19  \n",
       "60004  0.790571  1.032719  0.419757  00:20  \n",
       "60005  0.772701  1.035106  0.410561  00:20  \n",
       "60006  0.768672  1.042871  0.423606  00:21  \n",
       "60007  0.754486  1.011761  0.366000  00:20  \n",
       "\n",
       "[60008 rows x 11 columns]"
      ]
     },
     "execution_count": null,
     "metadata": {},
     "output_type": "execute_result"
    }
   ],
   "source": [
    "df = pd.read_csv('results/logging/realsr_limited_10-gen/log-realsr_limited_10-gen.csv')\n",
    "df"
   ]
  },
  {
   "cell_type": "code",
   "execution_count": null,
   "metadata": {},
   "outputs": [
    {
     "data": {
      "text/plain": [
       "Timedelta('9 days 00:11:49')"
      ]
     },
     "execution_count": null,
     "metadata": {},
     "output_type": "execute_result"
    }
   ],
   "source": [
    "import datetime\n",
    "\n",
    "def make_delta(entry):\n",
    "    m, s = entry.split(':')\n",
    "    return datetime.timedelta(hours=0, minutes=int(m), seconds=int(s))\n",
    "\n",
    "df['time'].apply(make_delta).sum()"
   ]
  },
  {
   "cell_type": "code",
   "execution_count": null,
   "metadata": {},
   "outputs": [
    {
     "data": {
      "text/plain": [
       "array([False, False,  True])"
      ]
     },
     "execution_count": null,
     "metadata": {},
     "output_type": "execute_result"
    }
   ],
   "source": [
    "np.greater([1,2,3],2)"
   ]
  },
  {
   "cell_type": "code",
   "execution_count": null,
   "metadata": {},
   "outputs": [
    {
     "data": {
      "text/html": [
       "<div>\n",
       "<style scoped>\n",
       "    .dataframe tbody tr th:only-of-type {\n",
       "        vertical-align: middle;\n",
       "    }\n",
       "\n",
       "    .dataframe tbody tr th {\n",
       "        vertical-align: top;\n",
       "    }\n",
       "\n",
       "    .dataframe thead th {\n",
       "        text-align: right;\n",
       "    }\n",
       "</style>\n",
       "<table border=\"1\" class=\"dataframe\">\n",
       "  <thead>\n",
       "    <tr style=\"text-align: right;\">\n",
       "      <th></th>\n",
       "      <th>col</th>\n",
       "    </tr>\n",
       "  </thead>\n",
       "  <tbody>\n",
       "    <tr>\n",
       "      <th>0</th>\n",
       "      <td>NaN</td>\n",
       "    </tr>\n",
       "    <tr>\n",
       "      <th>1</th>\n",
       "      <td>NaN</td>\n",
       "    </tr>\n",
       "    <tr>\n",
       "      <th>2</th>\n",
       "      <td>NaN</td>\n",
       "    </tr>\n",
       "    <tr>\n",
       "      <th>3</th>\n",
       "      <td>NaN</td>\n",
       "    </tr>\n",
       "    <tr>\n",
       "      <th>4</th>\n",
       "      <td>NaN</td>\n",
       "    </tr>\n",
       "    <tr>\n",
       "      <th>...</th>\n",
       "      <td>...</td>\n",
       "    </tr>\n",
       "    <tr>\n",
       "      <th>60003</th>\n",
       "      <td>29.772607</td>\n",
       "    </tr>\n",
       "    <tr>\n",
       "      <th>60004</th>\n",
       "      <td>29.772730</td>\n",
       "    </tr>\n",
       "    <tr>\n",
       "      <th>60005</th>\n",
       "      <td>29.772147</td>\n",
       "    </tr>\n",
       "    <tr>\n",
       "      <th>60006</th>\n",
       "      <td>29.771681</td>\n",
       "    </tr>\n",
       "    <tr>\n",
       "      <th>60007</th>\n",
       "      <td>29.770889</td>\n",
       "    </tr>\n",
       "  </tbody>\n",
       "</table>\n",
       "<p>60008 rows × 1 columns</p>\n",
       "</div>"
      ],
      "text/plain": [
       "             col\n",
       "0            NaN\n",
       "1            NaN\n",
       "2            NaN\n",
       "3            NaN\n",
       "4            NaN\n",
       "...          ...\n",
       "60003  29.772607\n",
       "60004  29.772730\n",
       "60005  29.772147\n",
       "60006  29.771681\n",
       "60007  29.770889\n",
       "\n",
       "[60008 rows x 1 columns]"
      ]
     },
     "execution_count": null,
     "metadata": {},
     "output_type": "execute_result"
    }
   ],
   "source": [
    "df_tmp = pd.DataFrame()\n",
    "df_tmp['col'] = df['psnr'].rolling(1000).mean()\n",
    "df_tmp"
   ]
  },
  {
   "cell_type": "code",
   "execution_count": null,
   "metadata": {},
   "outputs": [
    {
     "data": {
      "text/plain": [
       "701"
      ]
     },
     "execution_count": null,
     "metadata": {},
     "output_type": "execute_result"
    }
   ],
   "source": [
    "def find_first_idx(threshold = 29.2, column='psnr', comp_fn=np.greater, rolling = 1):\n",
    "    return df[comp_fn(df[column], threshold)].index[0]\n",
    "\n",
    "find_first_idx()"
   ]
  },
  {
   "cell_type": "code",
   "execution_count": null,
   "metadata": {},
   "outputs": [
    {
     "data": {
      "text/plain": [
       "[<matplotlib.lines.Line2D at 0x7f2ba48b0a10>]"
      ]
     },
     "execution_count": null,
     "metadata": {},
     "output_type": "execute_result"
    },
    {
     "data": {
      "image/png": "[encoded data removed]",
      "text/plain": [
       "<Figure size 432x288 with 1 Axes>"
      ]
     },
     "metadata": {
      "needs_background": "light"
     },
     "output_type": "display_data"
    }
   ],
   "source": [
    "plt.yscale('linear')\n",
    "plt.plot(df['psnr'][701:].rolling(1000).mean())"
   ]
  },
  {
   "cell_type": "code",
   "execution_count": null,
   "metadata": {},
   "outputs": [
    {
     "data": {
      "text/plain": [
       "[<matplotlib.lines.Line2D at 0x7f2ba38c3a90>]"
      ]
     },
     "execution_count": null,
     "metadata": {},
     "output_type": "execute_result"
    },
    {
     "data": {
      "image/png": "[encoded data removed]",
      "text/plain": [
       "<Figure size 432x288 with 1 Axes>"
      ]
     },
     "metadata": {
      "needs_background": "light"
     },
     "output_type": "display_data"
    }
   ],
   "source": [
    "plt.yscale('log')\n",
    "plt.plot(df['train_loss'][1000:].rolling(100).mean())"
   ]
  },
  {
   "cell_type": "code",
   "execution_count": null,
   "metadata": {},
   "outputs": [
    {
     "data": {
      "text/plain": [
       "[<matplotlib.lines.Line2D at 0x7f2ba164c790>]"
      ]
     },
     "execution_count": null,
     "metadata": {},
     "output_type": "execute_result"
    },
    {
     "data": {
      "image/png": "[encoded data removed]",
      "text/plain": [
       "<Figure size 432x288 with 1 Axes>"
      ]
     },
     "metadata": {
      "needs_background": "light"
     },
     "output_type": "display_data"
    }
   ],
   "source": [
    "plt.yscale('log')\n",
    "plt.plot(df['valid_loss'][1000:].rolling(100).mean())"
   ]
  },
  {
   "cell_type": "code",
   "execution_count": null,
   "metadata": {},
   "outputs": [],
   "source": []
  }
 ],
 "metadata": {
  "kernelspec": {
   "display_name": "Python 3",
   "language": "python",
   "name": "python3"
  }
 },
 "nbformat": 4,
 "nbformat_minor": 4
}
