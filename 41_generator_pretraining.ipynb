{
 "cells": [
  {
   "cell_type": "code",
   "execution_count": null,
   "metadata": {},
   "outputs": [],
   "source": [
    "%reload_ext autoreload\n",
    "%autoreload 2\n",
    "%matplotlib inline\n"
   ]
  },
  {
   "cell_type": "code",
   "execution_count": null,
   "metadata": {},
   "outputs": [
    {
     "name": "stdout",
     "output_type": "stream",
     "text": [
      "Cells will be exported to srthesis.training,\n",
      "unless a different module is specified after an export flag: `%nbdev_export special.module`\n"
     ]
    }
   ],
   "source": [
    "from nbdev import *\n",
    "%nbdev_default_export training"
   ]
  },
  {
   "cell_type": "code",
   "execution_count": null,
   "metadata": {},
   "outputs": [
    {
     "name": "stdout",
     "output_type": "stream",
     "text": [
      "GPUs:2\n",
      "Selected GPU:1\n",
      "Available memory:11016MB\n"
     ]
    }
   ],
   "source": [
    "from srthesis.utils import *\n",
    "select_gpu()"
   ]
  },
  {
   "cell_type": "markdown",
   "metadata": {},
   "source": [
    "# Generator pretraining\n",
    "\n"
   ]
  },
  {
   "cell_type": "code",
   "execution_count": null,
   "metadata": {},
   "outputs": [
    {
     "name": "stdout",
     "output_type": "stream",
     "text": [
      "Setting up Perceptual loss...\n",
      "Loading model from: /home/luslad/thesis/PerceptualSimilarity/models/weights/v0.1/alex.pth\n",
      "...[net-lin [alex]] initialized\n",
      "...Done\n"
     ]
    }
   ],
   "source": [
    "%nbdev_export_internal\n",
    "import json\n",
    "import shutil\n",
    "import re\n",
    "import os\n",
    "import psutil\n",
    "\n",
    "import fastai\n",
    "from fastai.vision import *\n",
    "from fastai.callbacks import *\n",
    "from fastai.utils.mem import *\n",
    "\n",
    "import torch\n",
    "from torchvision.utils import make_grid\n",
    "from torch.utils.tensorboard import SummaryWriter\n",
    "\n",
    "from srthesis.data_realsr import *\n",
    "from srthesis.data import *\n",
    "\n",
    "from srthesis.loss import *\n",
    "from srthesis.metrics import *\n",
    "from srthesis.callbacks import *\n",
    "from srthesis.model import *\n",
    "\n"
   ]
  },
  {
   "cell_type": "markdown",
   "metadata": {},
   "source": [
    "## Config and cleanup"
   ]
  },
  {
   "cell_type": "code",
   "execution_count": null,
   "metadata": {},
   "outputs": [],
   "source": [
    "run_id = 'test'\n",
    "group_id = 'tests'"
   ]
  },
  {
   "cell_type": "code",
   "execution_count": null,
   "metadata": {},
   "outputs": [],
   "source": [
    "%nbdev_export_internal\n",
    "import os\n",
    "def get_config(run_id, group_id='default'):\n",
    "    \n",
    "    path_logging = Path('results/logging/') / group_id / run_id\n",
    "    path_tensorboard = Path('results/tensorboard/' + group_id)\n",
    "    path_images = Path('results/images/') / group_id / run_id\n",
    "    \n",
    "    path_images.mkdir(parents = True, exist_ok = True)\n",
    "    \n",
    "    return path_logging, path_tensorboard, path_images\n",
    "\n"
   ]
  },
  {
   "cell_type": "code",
   "execution_count": null,
   "metadata": {},
   "outputs": [],
   "source": [
    "%nbdev_export\n",
    "class RunInfo:\n",
    "    group_id:str\n",
    "    run_id:str\n",
    "    path_logging:Path\n",
    "    path_tensorboard:Path\n",
    "    path_images:Path\n",
    "        \n",
    "    dataset='realsr' \n",
    "    total_iters = 5e5\n",
    "    repeat_train = 5000\n",
    "    loss_type='feature'\n",
    "    pretraining=True\n",
    "    dihedral_augs=True\n",
    "    max_train_len = 1\n",
    "    train_include:List[str]=[]\n",
    "    start_epoch=0\n",
    "    random_seed=42\n",
    "    \n",
    "    #logging\n",
    "    visual_iters = 5000,\n",
    "    loss_iters = 100,\n",
    "    checkpoint_every = 50000,\n",
    "        \n",
    "    def __init__(self, \n",
    "                 group_id, run_id, \n",
    "                 dataset='realsr',\n",
    "                 total_iters=5e5,\n",
    "                 repeat_train=1,\n",
    "                 max_train_len:int=sys.maxsize,\n",
    "                 train_include=[],\n",
    "                 loss_type='feature',\n",
    "                 pretraining:bool=False,\n",
    "                 dihedral_augs:bool=True,\n",
    "                 start_epoch=0,\n",
    "                 random_seed=42,\n",
    "                 visual_iters=10000,\n",
    "                 loss_iters=1000,\n",
    "                 checkpoint_every=50000):\n",
    "        self.group_id, self.run_id = group_id, run_id\n",
    "        self.path_logging, self.path_tensorboard, self.path_images = get_config(run_id, group_id)\n",
    "        self.dataset = dataset\n",
    "        self.total_iters = total_iters\n",
    "        self.repeat_train = repeat_train\n",
    "        self.loss_type = loss_type\n",
    "        self.pretraining = pretraining\n",
    "        self.dihedral_augs = dihedral_augs\n",
    "        self.start_epoch = start_epoch\n",
    "        self.max_train_len = max_train_len\n",
    "        self.train_include = train_include\n",
    "        self.random_seed = random_seed\n",
    "        self.visual_iters = visual_iters\n",
    "        self.loss_iters = loss_iters\n",
    "        self.checkpoint_every = checkpoint_every\n",
    "        \n",
    "        #with open(self.path_logging / 'model_info.json', 'w') as outfile:\n",
    "        #    json.dump(vars(self), outfile)\n",
    "        \n",
    "    def get_paths(self):\n",
    "        return self.path_logging, self.path_tensorboard, self.path_images\n",
    "    \n",
    "    def cleanup(self):\n",
    "        def _delete_log_dir(path:str):\n",
    "            shutil.rmtree(path, ignore_errors=True)\n",
    "\n",
    "        def _clear_log_dir(path:str):\n",
    "            _delete_log_dir(path)\n",
    "            path.mkdir(exist_ok = True, parents=True)\n",
    "        \n",
    "        print(f\"Deleting {self.path_tensorboard} / {self.run_id}, {self.path_logging}, clearing {self.path_images}\")\n",
    "        _delete_log_dir(self.path_tensorboard / self.run_id)\n",
    "        _clear_log_dir(self.path_logging)\n",
    "        _clear_log_dir(self.path_images)\n",
    "        \n",
    "    def __repr__(self):\n",
    "        result  = f\"Experiment: {self.group_id}/{self.run_id}\"\n",
    "        for p in [self.path_logging, self.path_tensorboard, self.path_images]:\n",
    "            result += f\"\\n path: {p}\"\n",
    "        result += f\"\\n\\n dataset: {self.dataset}\"\n",
    "        result += f\"\\n max_train_len: {self.max_train_len}\"\n",
    "        result += f\"\\n repeat_train: {self.repeat_train}\"\n",
    "        result += f\"\\n loss_type: {self.loss_type}\"\n",
    "        result += f\"\\n total_iters: {int(self.total_iters)}\"\n",
    "        result += f\"\\n dihedral_augs: {self.dihedral_augs}\"\n",
    "        result += f\"\\n pretraining: {self.pretraining} \\n\"\n",
    "        \n",
    "        result += f\"\\n save model: {self.checkpoint_every} it.\"\n",
    "        result += f\"\\n save images: {self.visual_iters} it.\"\n",
    "        result += f\"\\n save loss: {self.loss_iters} it.\"\n",
    "        return result"
   ]
  },
  {
   "cell_type": "code",
   "execution_count": null,
   "metadata": {},
   "outputs": [
    {
     "data": {
      "text/plain": [
       "Experiment: tests/test\n",
       " path: results/logging/tests/test\n",
       " path: results/tensorboard/tests\n",
       " path: results/images/tests/test\n",
       "\n",
       " dataset: realsr\n",
       " max_train_len: 9223372036854775807\n",
       " repeat_train: 1\n",
       " loss_type: feature\n",
       " total_iters: 500000\n",
       " dihedral_augs: True\n",
       " pretraining: False \n",
       "\n",
       " save model: 50000 it.\n",
       " save images: 10000 it.\n",
       " save loss: 1000 it."
      ]
     },
     "execution_count": null,
     "metadata": {},
     "output_type": "execute_result"
    }
   ],
   "source": [
    "run_info = RunInfo(group_id, run_id)\n",
    "run_info"
   ]
  },
  {
   "cell_type": "code",
   "execution_count": null,
   "metadata": {},
   "outputs": [
    {
     "name": "stdout",
     "output_type": "stream",
     "text": [
      "Deleting results/tensorboard/tests / test, results/logging/tests/test, clearing results/images/tests/test\n"
     ]
    }
   ],
   "source": [
    "run_info.cleanup()"
   ]
  },
  {
   "cell_type": "markdown",
   "metadata": {},
   "source": [
    "## Metrics"
   ]
  },
  {
   "cell_type": "code",
   "execution_count": null,
   "metadata": {},
   "outputs": [],
   "source": [
    "%nbdev_export_internal\n",
    "metrics = [AverageMetric(PSNR), AverageMetric(SSIM), AverageMetric(LPIPS)]"
   ]
  },
  {
   "cell_type": "markdown",
   "metadata": {},
   "source": [
    "### Callbacks"
   ]
  },
  {
   "cell_type": "code",
   "execution_count": null,
   "metadata": {},
   "outputs": [],
   "source": [
    "%nbdev_export_internal\n",
    "def _get_tensorboard(learn:Learner, path_tensorboard:Path, run_id:str, loss_iters=1, visual_iters=1000, hist_iters=1000, stats_iters=1000):\n",
    "    writer = SummaryWriter(log_dir = path_tensorboard/run_id)\n",
    "    tb_cb = ImageGenTensorboardWriter(learn, writer, visual_iters=visual_iters, loss_iters=loss_iters, hist_iters=hist_iters, stats_iters=stats_iters)\n",
    "    return tb_cb"
   ]
  },
  {
   "cell_type": "code",
   "execution_count": null,
   "metadata": {},
   "outputs": [],
   "source": [
    "%nbdev_export_internal\n",
    "class CsvLoggerEx(CSVLogger):\n",
    "    def __init__(self, learn:Learner, path_logging:Path, filename: str = 'history', append: bool = False): \n",
    "        super().__init__(learn, filename, append)\n",
    "        self.path = path_logging / filename"
   ]
  },
  {
   "cell_type": "code",
   "execution_count": null,
   "metadata": {},
   "outputs": [],
   "source": [
    "%nbdev_export_internal\n",
    "class SaveEveryNIterations(LearnerCallback):\n",
    "    def __init__(self, learn:Learner, save_iters:int = 100):\n",
    "        super().__init__(learn)\n",
    "        self.save_iters = save_iters\n",
    "        self.times_saved = 0\n",
    "        self.prev_iterations = 0    \n",
    "    \n",
    "    def jump_to_epoch(self, epoch:int)->None:\n",
    "        n = len(self.learn.data.train_dl)\n",
    "        self.prev_iterations = n*epoch\n",
    "        self.times_saved = self.prev_iterations // self.save_iters\n",
    "    \n",
    "    def on_epoch_end(self, epoch:int, iteration:int, **kwargs)->None:\n",
    "        if (self.prev_iterations + iteration) // self.save_iters > self.times_saved:\n",
    "            self.times_saved += 1\n",
    "            self.save(epoch, self.prev_iterations + iteration)\n",
    "            \n",
    "    def on_train_end(self, iteration:int, **kwargs)->None:\n",
    "        \"Keep track of total numbers of iterations\"\n",
    "        self.prev_iterations += iteration \n",
    "        \n",
    "    def save(self, epoch, iteration:int):\n",
    "        raise NotImplementedError(\"Implement save method\")"
   ]
  },
  {
   "cell_type": "code",
   "execution_count": null,
   "metadata": {},
   "outputs": [],
   "source": [
    "%nbdev_export_internal\n",
    "class SavePredsCallback(SaveEveryNIterations):\n",
    "    \"\"\"Save selected patches every save_iters iteration. Triggered after epoch\"\"\"\n",
    "    def __init__(self, learn:Learner, fnames:List[str], save_dir:Path, save_iters:int = 100):\n",
    "        super().__init__(learn, save_iters)\n",
    "        self.fnames = fnames\n",
    "        self.save_dir = save_dir\n",
    "        \n",
    "    def save(self, epoch, iteration:int):\n",
    "        for fn in self.fnames:\n",
    "            img_lr = open_image(fn)\n",
    "            tg = self.learn.predict(img_lr)\n",
    "            tg[0].save(self.save_dir/(str(self.times_saved) + '-' + fn.name.replace('LR2','PRED')))\n",
    "            del tg"
   ]
  },
  {
   "cell_type": "code",
   "execution_count": null,
   "metadata": {},
   "outputs": [],
   "source": [
    "%nbdev_export_internal\n",
    "def _extract_epoch(name:str):    \n",
    "    print(name)\n",
    "    x = re.search(\"_e[0-9]+_\", name)\n",
    "    \n",
    "    if not x:\n",
    "        return 0\n",
    "    \n",
    "    x = re.search(\"[0-9]+\", x.group())\n",
    "    epoch = int(x.group())\n",
    "    return epoch"
   ]
  },
  {
   "cell_type": "code",
   "execution_count": null,
   "metadata": {},
   "outputs": [],
   "source": [
    "%nbdev_export_internal\n",
    "class SaveModelEveryItersCallback(SaveEveryNIterations):\n",
    "    \n",
    "    def __init__(self, learn:Learner, save_iters:int=50000, name:str='default'):\n",
    "        super().__init__(learn, save_iters)\n",
    "        self.name = name        \n",
    "    \n",
    "    def jump_to_epoch(self, epoch:int)->None:\n",
    "        super().jump_to_epoch(epoch)\n",
    "        \n",
    "        print(f'Loading epoch {epoch}')\n",
    "        try:\n",
    "            for model_name in os.listdir(self.learn.path / 'models'):\n",
    "                if self.name not in model_name:\n",
    "                    continue\n",
    "\n",
    "                model_epoch = _extract_epoch(model_name)\n",
    "               \n",
    "                if epoch == model_epoch:\n",
    "                    model_name = Path(model_name)\n",
    "                    print(f'Trying to load {model_name.stem}')\n",
    "                    self.learn.load(model_name.stem, purge=False)\n",
    "                    print(f\"Loaded {model_name.stem}\")\n",
    "        \n",
    "           \n",
    "        except: \n",
    "            print(f'Model {self.name}_{epoch} not found.')\n",
    "            raise\n",
    "    \n",
    "    def save(self, epoch:int, iteration:int):\n",
    "        print(f\"Saving model checkpoint to f'{self.name}_e{epoch}_it{iteration}'\")\n",
    "        self.learn.save(f'{self.name}_e{epoch}_it{iteration}')"
   ]
  },
  {
   "cell_type": "code",
   "execution_count": null,
   "metadata": {},
   "outputs": [],
   "source": [
    "%nbdev_export_internal\n",
    "class SaveResultsFigure(SaveEveryNIterations):\n",
    "    def __init__(self, learn:Learner, path:Path, name:str='figure', save_iters:int=10000):\n",
    "        super().__init__(learn, save_iters)\n",
    "        self.name = name\n",
    "        self.path = path\n",
    "        \n",
    "    def save(self, epoch, iteration:int):\n",
    "        fname = f\"Fig-{self.name}_{iteration}.png\"\n",
    "        fpath = self.path / fname\n",
    "        print(f\"Saving results to {fname}\")\n",
    "        self.learn.show_results(rows=1, imgsize=5)\n",
    "        plt.savefig(fpath)\n",
    "        plt.close('all')"
   ]
  },
  {
   "cell_type": "code",
   "execution_count": null,
   "metadata": {},
   "outputs": [],
   "source": [
    "%nbdev_export_internal\n",
    "def _get_callbacks(learn:Learner, \n",
    "                   run_info:RunInfo):\n",
    "    path_logging, path_tensorboard, path_images = run_info.get_paths()\n",
    "    run_id = run_info.run_id\n",
    "    visual_iters = run_info.visual_iters\n",
    "    loss_iters = run_info.loss_iters\n",
    "    checkpoint_every = run_info.checkpoint_every\n",
    "    \n",
    "    tb_cb = _get_tensorboard(learn, path_tensorboard, run_id, \n",
    "                             loss_iters=loss_iters, \n",
    "                             visual_iters = visual_iters,\n",
    "                             hist_iters=10000, stats_iters=5000)\n",
    "    csv_logger = CsvLoggerEx(learn, path_logging, 'log-' + run_id + '.csv', True)\n",
    "    save_img = SavePredsCallback(learn, test_patches, save_dir = path_images, save_iters=visual_iters)\n",
    "    save_model = SaveModelEveryItersCallback(learn, name=run_id, save_iters=checkpoint_every)\n",
    "    save_results = SaveResultsFigure(learn, path=path_images, name=run_id, save_iters=5000)\n",
    "    return [tb_cb, csv_logger, save_model, save_results] #save_img"
   ]
  },
  {
   "cell_type": "code",
   "execution_count": null,
   "metadata": {},
   "outputs": [
    {
     "name": "stderr",
     "output_type": "stream",
     "text": [
      "UsageError: Line magic function `%nbdev_export_internal` not found.\n"
     ]
    }
   ],
   "source": [
    "%nbdev_export_internal\n",
    "class TrainingManager(LearnerCallback):\n",
    "    def __init__(self, run_id:str, start_epoch:int, kwargs:dict):\n",
    "        self.name = run_id\n",
    "        self.start_epoch = start_epoch\n",
    "        self.kwargs = kwargs\n",
    "        self.process = psutil.Process(os.getpid())\n",
    "        \n",
    "    def on_train_begin(self, **kwargs):       \n",
    "        if self.start_epoch > 0:\n",
    "            print(f\"Resume learning from epoch {self.start_epoch}\")\n",
    "        ret = {'epoch':self.start_epoch}\n",
    "\n",
    "        return ret\n",
    "    \n",
    "    def on_epoch_end(self, epoch, iteration, **kwargs):\n",
    "        if epoch % 10 == 0:\n",
    "            mem = psutil.virtual_memory()\n",
    "            print(f\"RAM used: {mem.used/1024**2:10.2f}MB ({mem.percent:5}%), available: {mem.available/1024**2:10.2f}\") "
   ]
  },
  {
   "cell_type": "markdown",
   "metadata": {},
   "source": [
    "# Training loop"
   ]
  },
  {
   "cell_type": "markdown",
   "metadata": {},
   "source": [
    "## train_model"
   ]
  },
  {
   "cell_type": "code",
   "execution_count": null,
   "metadata": {},
   "outputs": [],
   "source": [
    "%nbdev_export_internal\n",
    "def train_model(learn:Learner, \n",
    "                run_info:RunInfo,\n",
    "                lr = 2e-4, #initial lr, halved every phase_len iters\n",
    "                start_epoch = 0):\n",
    "    kwargs = locals()\n",
    "    del kwargs['learn']\n",
    "    \n",
    "    cb = _get_callbacks(learn, run_info)\n",
    "    \n",
    "    #initial transfer learning]\n",
    "    if run_info.pretraining and start_epoch == 0:\n",
    "        print(f\"Pretraining for 10 steps with lr=1e-3\")\n",
    "        learn.fit_one_cycle(10, 1e-3, pct_start=0.9, callbacks=cb)\n",
    "        \n",
    "    learn.unfreeze()\n",
    "    \n",
    "    cb.append(TrainingManager(run_info.run_id, start_epoch=start_epoch, kwargs = kwargs))\n",
    "    \n",
    "    \n",
    "    #number of epochs determined by lr scheduler\n",
    "    n = len(learn.data.train_dl)\n",
    "    epochs = int(run_info.total_iters) // n\n",
    "        \n",
    "    print(f\"Batches in epoch: {n}\")\n",
    "    print(f\"Total iters: {run_info.total_iters}\")\n",
    "    print(f\"Training will run for {epochs} epochs.\")\n",
    "    \n",
    "    learn.fit_one_cycle(epochs, max_lr=2e-4, pct_start=0.2, callbacks=cb)\n",
    "    learn.save(f'{run_info.run_id}_final_it')\n",
    "    "
   ]
  },
  {
   "cell_type": "markdown",
   "metadata": {},
   "source": [
    "# run_experiment"
   ]
  },
  {
   "cell_type": "code",
   "execution_count": null,
   "metadata": {},
   "outputs": [],
   "source": [
    "%nbdev_export\n",
    "def run_experiment(run_info:RunInfo,\n",
    "                   start_epoch = 0, \n",
    "                   num_workers=16\n",
    "                  ):\n",
    "    \n",
    "    if start_epoch == 0:\n",
    "        run_info.cleanup()\n",
    "    \n",
    "    print(run_info)\n",
    "    \n",
    "    sz = 128\n",
    "    bs = 16\n",
    "    \n",
    "    data = get_data(sz, bs, \n",
    "                    dataset=run_info.dataset, \n",
    "                    dihedral_augs=run_info.dihedral_augs, \n",
    "                    repeat_train=run_info.repeat_train,\n",
    "                    max_train_len=run_info.max_train_len,\n",
    "                    train_include=run_info.train_include,\n",
    "                    random_seed=run_info.random_seed,\n",
    "                    num_workers=num_workers)\n",
    "    \n",
    "    print(\"Data \\n:\" + str(data))\n",
    "    #data.show_batch()\n",
    "    #plt.show()\n",
    "    \n",
    "    learn_gen = create_learner(data, pretrained=run_info.pretraining, loss_type=run_info.loss_type)\n",
    "    \n",
    "    train_model(learn_gen, \n",
    "                run_info=run_info, \n",
    "                start_epoch=start_epoch)\n",
    "    "
   ]
  },
  {
   "cell_type": "code",
   "execution_count": null,
   "metadata": {},
   "outputs": [],
   "source": [
    "%nbdev_export\n",
    "def run_overfitting(run_id='default_overfit',\n",
    "                    group_id='overfitting',\n",
    "):\n",
    "    \n",
    "    kwargs = locals()\n",
    "    kwargs['dataset'] = 'realsr'\n",
    "    kwargs['dihedral_augs'] = False\n",
    "    kwargs['pretraining'] = False\n",
    "    \n",
    "    run_experiment(**kwargs)\n",
    "    \n",
    "    "
   ]
  },
  {
   "cell_type": "markdown",
   "metadata": {},
   "source": [
    "# Test it "
   ]
  },
  {
   "cell_type": "markdown",
   "metadata": {},
   "source": [
    "## Data"
   ]
  },
  {
   "cell_type": "code",
   "execution_count": null,
   "metadata": {},
   "outputs": [
    {
     "name": "stdout",
     "output_type": "stream",
     "text": [
      "Data: Iters in epoch: 2, loading threads: 2\n",
      "Device: cuda\n",
      "Image List loaded\n",
      "datasets/RealSR/Nikon/Train/2/Nikon_070_LR2.png\n",
      "Image List loaded\n",
      "datasets/RealSR/Nikon/Train/2/Nikon_070_HR.png\n",
      "Image List loaded\n",
      "datasets/RealSR/Valid/img18_p0_LR2.jpg\n",
      "Image List loaded\n",
      "datasets/RealSR/Valid/img18_p0_HR.jpg\n"
     ]
    }
   ],
   "source": [
    "data = get_data(128, 16, dataset='realsr', repeat_train=30, device=defaults.device, max_train_len=1, random_seed=83)"
   ]
  },
  {
   "cell_type": "code",
   "execution_count": null,
   "metadata": {},
   "outputs": [
    {
     "name": "stdout",
     "output_type": "stream",
     "text": [
      "CPU times: user 664 ms, sys: 158 ms, total: 821 ms\n",
      "Wall time: 463 ms\n"
     ]
    },
    {
     "data": {
      "image/png": "[encoded data removed]",
      "text/plain": [
       "<Figure size 648x648 with 16 Axes>"
      ]
     },
     "metadata": {
      "needs_background": "light"
     },
     "output_type": "display_data"
    }
   ],
   "source": [
    "%%time\n",
    "data.show_batch(ds_type=DatasetType.Valid, rows=8, figsize=(9,9))"
   ]
  },
  {
   "cell_type": "markdown",
   "metadata": {},
   "source": [
    "## create_learner\n"
   ]
  },
  {
   "cell_type": "code",
   "execution_count": null,
   "metadata": {},
   "outputs": [],
   "source": [
    "learn_gen = create_learner(data, arch = models.resnet34, bottle=False, regularizations=False)"
   ]
  },
  {
   "cell_type": "markdown",
   "metadata": {},
   "source": [
    "# Pokusy"
   ]
  },
  {
   "cell_type": "code",
   "execution_count": null,
   "metadata": {},
   "outputs": [],
   "source": [
    "train_len = 1\n",
    "print(f'Run experiment with limited RealSR dataset ({train_len} training images, no augmentations).')\n",
    "\n",
    "gc.collect()\n",
    "\n",
    "run_info = RunInfo('test', 'test', max_train_len=153, repeat_train=10, dihedral_augs=False)\n",
    "run_experiment(run_info)"
   ]
  },
  {
   "cell_type": "code",
   "execution_count": null,
   "metadata": {},
   "outputs": [],
   "source": [
    "%nbdev_export\n",
    "def train_degradation_model(run_id='default'):\n",
    "    run_experiment(run_id, dataset='realsr_inverse', repeat_train=10)\n",
    "    "
   ]
  },
  {
   "cell_type": "code",
   "execution_count": null,
   "metadata": {},
   "outputs": [],
   "source": [
    "import multiprocessing \n",
    "\n",
    "def _validate(model:nn.Module, dl:DataLoader, loss_func:OptLossFunc=None, cb_handler=None,\n",
    "             pbar=None, average=True, n_batch:Optional[int]=None):\n",
    "    \"Calculate `loss_func` of `model` on `dl` in evaluation mode.\"\n",
    "    print(\"_validate called\")\n",
    "    \n",
    "    t = time.process_time()\n",
    "    model.eval()\n",
    "    #print(f\"Time valid:model.eval(): {time.process_time() - t}\")\n",
    "    \n",
    "    with torch.no_grad():\n",
    "        val_losses,nums = [],[]\n",
    "        \n",
    "        t1 = time.process_time()\n",
    "        if cb_handler: cb_handler.set_dl(dl)\n",
    "        #print(f\"Time valid:set_dl: {time.process_time() - t}\")\n",
    "        \n",
    "        for xb,yb in dl:\n",
    "            t = time.process_time()\n",
    "            if cb_handler: xb, yb = cb_handler.on_batch_begin(xb, yb, train=False)\n",
    "            #print(f\"Time valid:on_batch_begin (xb, yb): {time.process_time() - t}\")\n",
    "            \n",
    "            #t = time.process_time()\n",
    "            val_loss = loss_batch(model, xb, yb, loss_func, cb_handler=cb_handler)\n",
    "            print(f\"Time valid:loss_batch + batch_begin: {time.process_time() - t}\")\n",
    "            \n",
    "            t = time.process_time()\n",
    "            \n",
    "            val_losses.append(val_loss)\n",
    "            if not is_listy(yb): yb = [yb]\n",
    "            nums.append(first_el(yb).shape[0])\n",
    "            \n",
    "            \n",
    "            if cb_handler and cb_handler.on_batch_end(val_losses[-1]): break\n",
    "            print(f\"Time valid:append_results + on_batch_end: {time.process_time() - t}\")\n",
    "            \n",
    "            if n_batch and (len(nums)>=n_batch): break\n",
    "                \n",
    "        print(f\"Time valid:total: {time.process_time() - t1}\")\n",
    "        nums = np.array(nums, dtype=np.float32)\n",
    "        if average: return (to_np(torch.stack(val_losses)) * nums).sum() / nums.sum()\n",
    "        else:       return val_losses\n",
    "\n",
    "def _logged_fit(epochs:int, learn, callbacks:Optional[CallbackList]=None, metrics:OptMetrics=None)->None:\n",
    "    \"Fit the `model` on `data` and learn using `loss_func` and `opt`.\"\n",
    "    assert len(learn.data.train_dl) != 0, f\"\"\"Your training dataloader is empty, can't train a model.\n",
    "        Use a smaller batch size (batch size={learn.data.train_dl.batch_size} for {len(learn.data.train_dl.dataset)} elements).\"\"\"\n",
    "    print(\"_logged_fit called\")\n",
    "    \n",
    "    cb_handler = CallbackHandler(callbacks, metrics)\n",
    "    pbar = master_bar(range(epochs))\n",
    "    \n",
    "    t = time.process_time()\n",
    "    cb_handler.on_train_begin(epochs, pbar=pbar, metrics=metrics)\n",
    "    print(f\"Time on_train_begin: {time.process_time() - t}\")\n",
    "    \n",
    "    exception=False\n",
    "    try:\n",
    "        for epoch in pbar:\n",
    "            learn.model.train()\n",
    "            cb_handler.set_dl(learn.data.train_dl)\n",
    "            cb_handler.on_epoch_begin()\n",
    "            tt = time.process_time()\n",
    "            print(f\"{len(multiprocessing.active_children())} processes\")\n",
    "            for xb,yb in learn.data.train_dl:\n",
    "                \n",
    "                t = time.process_time()\n",
    "                xb, yb = cb_handler.on_batch_begin(xb, yb)\n",
    "                #print(f\"Time xb, yb: {time.process_time() - t}\")\n",
    "\n",
    "                #t = time.process_time()\n",
    "                loss = loss_batch(learn.model, xb, yb, learn.loss_func, learn.opt, cb_handler)\n",
    "                #print(f\"Time loss_batch: {time.process_time() - t}\")\n",
    "                #t = time.process_time()\n",
    "                if cb_handler.on_batch_end(loss): break\n",
    "                print(f\"Time train:on_batch_end: {time.process_time() - t}\") \n",
    "                print(f\"{len(multiprocessing.active_children())} processes\")\n",
    "                \n",
    "            print(f\"Time train:epoch_time: {time.process_time() - tt}\")\n",
    "            print(f\"{len(multiprocessing.active_children())} processes\")\n",
    "            t = time.process_time()\n",
    "            if not cb_handler.skip_validate and not learn.data.empty_val:\n",
    "                print(\"Validate\")\n",
    "                val_loss = _validate(learn.model, learn.data.valid_dl, loss_func=learn.loss_func,\n",
    "                                       cb_handler=cb_handler, pbar=pbar)\n",
    "            else: val_loss=None\n",
    "            print(f\"Time val_loss: {time.process_time() - t}\")    \n",
    "            \n",
    "            t = time.process_time()\n",
    "            if cb_handler.on_epoch_end(val_loss): break\n",
    "            print(f\"Time on_epoch_end: {time.process_time() - t}\")        \n",
    "    except Exception as e:\n",
    "        exception = e\n",
    "        raise\n",
    "    finally: cb_handler.on_train_end(exception)\n",
    "        \n",
    "def _fit(self, epochs:int, lr=defaults.lr,\n",
    "            wd:Floats=None, callbacks:Collection[Callback]=None)->None:\n",
    "        \"Fit the model on this learner with `lr` learning rate, `wd` weight decay for `epochs` with `callbacks`.\"\n",
    "        print(\"_fit called\")\n",
    "        lr = self.lr_range(lr)\n",
    "        if wd is None: wd = self.wd\n",
    "        if not getattr(self, 'opt', False): self.create_opt(lr, wd)\n",
    "        else: self.opt.lr,self.opt.wd = lr,wd\n",
    "        callbacks = [cb(self) for cb in self.callback_fns + listify(defaults.extra_callback_fns)] + listify(callbacks)\n",
    "        _logged_fit(epochs, self, metrics=self.metrics, callbacks=self.callbacks+callbacks)"
   ]
  },
  {
   "cell_type": "code",
   "execution_count": null,
   "metadata": {},
   "outputs": [],
   "source": [
    "import types\n",
    "\n",
    "learn_gen.fit = types.MethodType(_fit, learn_gen)\n"
   ]
  },
  {
   "cell_type": "code",
   "execution_count": null,
   "metadata": {},
   "outputs": [],
   "source": [
    "learn_gen.metrics = []\n",
    "learn_gen.callback_fns = []"
   ]
  },
  {
   "cell_type": "code",
   "execution_count": null,
   "metadata": {},
   "outputs": [
    {
     "data": {
      "text/plain": [
       "16"
      ]
     },
     "execution_count": null,
     "metadata": {},
     "output_type": "execute_result"
    }
   ],
   "source": [
    "gen_name, path_logging, path_tensorboard, path_images = get_config(run_id)\n",
    "learn_gen.data = data\n",
    "learn_gen.fit_one_cycle(10, pct_start=0.3, callbacks=[])"
   ]
  },
  {
   "cell_type": "code",
   "execution_count": null,
   "metadata": {},
   "outputs": [
    {
     "name": "stdout",
     "output_type": "stream",
     "text": [
      "Batches in epoch: 9\n",
      "Total iters: 500000.0\n",
      "Training will run for 55555 epochs.\n"
     ]
    },
    {
     "data": {
      "text/html": [
       "\n",
       "    <div>\n",
       "        <style>\n",
       "            /* Turns off some styling */\n",
       "            progress {\n",
       "                /* gets rid of default border in Firefox and Opera. */\n",
       "                border: none;\n",
       "                /* Needs to be in here for Safari polyfill so background images work as expected. */\n",
       "                background-size: auto;\n",
       "            }\n",
       "            .progress-bar-interrupted, .progress-bar-interrupted::-webkit-progress-bar {\n",
       "                background: #F44336;\n",
       "            }\n",
       "        </style>\n",
       "      <progress value='2' class='' max='55555', style='width:300px; height:20px; vertical-align: middle;'></progress>\n",
       "      0.00% [2/55555 00:42<331:15:00]\n",
       "    </div>\n",
       "    \n",
       "<table border=\"1\" class=\"dataframe\">\n",
       "  <thead>\n",
       "    <tr style=\"text-align: left;\">\n",
       "      <th>epoch</th>\n",
       "      <th>train_loss</th>\n",
       "      <th>valid_loss</th>\n",
       "      <th>psnr</th>\n",
       "      <th>ssim</th>\n",
       "      <th>LPIPS</th>\n",
       "      <th>pixel</th>\n",
       "      <th>feat_0</th>\n",
       "      <th>feat_1</th>\n",
       "      <th>feat_2</th>\n",
       "      <th>time</th>\n",
       "    </tr>\n",
       "  </thead>\n",
       "  <tbody>\n",
       "    <tr>\n",
       "      <td>0</td>\n",
       "      <td>60.813324</td>\n",
       "      <td>59.875298</td>\n",
       "      <td>10.256034</td>\n",
       "      <td>0.107681</td>\n",
       "      <td>0.731566</td>\n",
       "      <td>1.123234</td>\n",
       "      <td>1.367783</td>\n",
       "      <td>1.698883</td>\n",
       "      <td>0.636624</td>\n",
       "      <td>00:24</td>\n",
       "    </tr>\n",
       "    <tr>\n",
       "      <td>1</td>\n",
       "      <td>60.592922</td>\n",
       "      <td>56.472031</td>\n",
       "      <td>13.053296</td>\n",
       "      <td>0.257964</td>\n",
       "      <td>0.477082</td>\n",
       "      <td>0.791120</td>\n",
       "      <td>1.299803</td>\n",
       "      <td>1.597010</td>\n",
       "      <td>0.666804</td>\n",
       "      <td>00:18</td>\n",
       "    </tr>\n",
       "  </tbody>\n",
       "</table><p>\n",
       "\n",
       "    <div>\n",
       "        <style>\n",
       "            /* Turns off some styling */\n",
       "            progress {\n",
       "                /* gets rid of default border in Firefox and Opera. */\n",
       "                border: none;\n",
       "                /* Needs to be in here for Safari polyfill so background images work as expected. */\n",
       "                background-size: auto;\n",
       "            }\n",
       "            .progress-bar-interrupted, .progress-bar-interrupted::-webkit-progress-bar {\n",
       "                background: #F44336;\n",
       "            }\n",
       "        </style>\n",
       "      <progress value='6' class='' max='9', style='width:300px; height:20px; vertical-align: middle;'></progress>\n",
       "      66.67% [6/9 00:10<00:05 59.6184]\n",
       "    </div>\n",
       "    "
      ],
      "text/plain": [
       "<IPython.core.display.HTML object>"
      ]
     },
     "metadata": {},
     "output_type": "display_data"
    },
    {
     "data": {
      "image/png": "[encoded data removed]",
      "text/plain": [
       "<Figure size 432x288 with 1 Axes>"
      ]
     },
     "metadata": {},
     "output_type": "display_data"
    },
    {
     "ename": "KeyboardInterrupt",
     "evalue": "",
     "output_type": "error",
     "traceback": [
      "\u001b[0;31m---------------------------------------------------------------------------\u001b[0m",
      "\u001b[0;31mKeyboardInterrupt\u001b[0m                         Traceback (most recent call last)",
      "\u001b[0;32m<ipython-input-27-7e51eb05edfc>\u001b[0m in \u001b[0;36m<module>\u001b[0;34m\u001b[0m\n\u001b[1;32m      1\u001b[0m \u001b[0mgc\u001b[0m\u001b[0;34m.\u001b[0m\u001b[0mcollect\u001b[0m\u001b[0;34m(\u001b[0m\u001b[0;34m)\u001b[0m\u001b[0;34m;\u001b[0m\u001b[0;34m\u001b[0m\u001b[0;34m\u001b[0m\u001b[0m\n\u001b[1;32m      2\u001b[0m \u001b[0;31m#test_run(learn_gen, epochs = 4)\u001b[0m\u001b[0;34m\u001b[0m\u001b[0;34m\u001b[0m\u001b[0;34m\u001b[0m\u001b[0m\n\u001b[0;32m----> 3\u001b[0;31m \u001b[0mtrain_model\u001b[0m\u001b[0;34m(\u001b[0m\u001b[0mrun_id\u001b[0m\u001b[0;34m,\u001b[0m \u001b[0mlearn_gen\u001b[0m\u001b[0;34m,\u001b[0m \u001b[0mpretraining\u001b[0m\u001b[0;34m=\u001b[0m\u001b[0;32mFalse\u001b[0m\u001b[0;34m)\u001b[0m\u001b[0;34m\u001b[0m\u001b[0;34m\u001b[0m\u001b[0m\n\u001b[0m",
      "\u001b[0;32m<ipython-input-22-31bf300d9e33>\u001b[0m in \u001b[0;36mtrain_model\u001b[0;34m(run_id, learn, lr, n_phases, phase_len, checkpoint_every, pretraining)\u001b[0m\n\u001b[1;32m     31\u001b[0m     \u001b[0mprint\u001b[0m\u001b[0;34m(\u001b[0m\u001b[0;34mf\"Training will run for {epochs} epochs.\"\u001b[0m\u001b[0;34m)\u001b[0m\u001b[0;34m\u001b[0m\u001b[0;34m\u001b[0m\u001b[0m\n\u001b[1;32m     32\u001b[0m \u001b[0;34m\u001b[0m\u001b[0m\n\u001b[0;32m---> 33\u001b[0;31m     \u001b[0mlearn\u001b[0m\u001b[0;34m.\u001b[0m\u001b[0mfit_one_cycle\u001b[0m\u001b[0;34m(\u001b[0m\u001b[0mepochs\u001b[0m\u001b[0;34m,\u001b[0m \u001b[0mpct_start\u001b[0m\u001b[0;34m=\u001b[0m\u001b[0;36m0.3\u001b[0m\u001b[0;34m,\u001b[0m \u001b[0mcallbacks\u001b[0m\u001b[0;34m=\u001b[0m\u001b[0mcb\u001b[0m\u001b[0;34m)\u001b[0m\u001b[0;34m\u001b[0m\u001b[0;34m\u001b[0m\u001b[0m\n\u001b[0m\u001b[1;32m     34\u001b[0m \u001b[0;34m\u001b[0m\u001b[0m\n",
      "\u001b[0;32m~/thesis/fastai/train.py\u001b[0m in \u001b[0;36mfit_one_cycle\u001b[0;34m(learn, cyc_len, max_lr, moms, div_factor, pct_start, final_div, wd, callbacks, tot_epochs, start_epoch)\u001b[0m\n\u001b[1;32m     21\u001b[0m     callbacks.append(OneCycleScheduler(learn, max_lr, moms=moms, div_factor=div_factor, pct_start=pct_start,\n\u001b[1;32m     22\u001b[0m                                        final_div=final_div, tot_epochs=tot_epochs, start_epoch=start_epoch))\n\u001b[0;32m---> 23\u001b[0;31m     \u001b[0mlearn\u001b[0m\u001b[0;34m.\u001b[0m\u001b[0mfit\u001b[0m\u001b[0;34m(\u001b[0m\u001b[0mcyc_len\u001b[0m\u001b[0;34m,\u001b[0m \u001b[0mmax_lr\u001b[0m\u001b[0;34m,\u001b[0m \u001b[0mwd\u001b[0m\u001b[0;34m=\u001b[0m\u001b[0mwd\u001b[0m\u001b[0;34m,\u001b[0m \u001b[0mcallbacks\u001b[0m\u001b[0;34m=\u001b[0m\u001b[0mcallbacks\u001b[0m\u001b[0;34m)\u001b[0m\u001b[0;34m\u001b[0m\u001b[0;34m\u001b[0m\u001b[0m\n\u001b[0m\u001b[1;32m     24\u001b[0m \u001b[0;34m\u001b[0m\u001b[0m\n\u001b[1;32m     25\u001b[0m def fit_fc(learn:Learner, tot_epochs:int=1, lr:float=defaults.lr,  moms:Tuple[float,float]=(0.95,0.85), start_pct:float=0.72,\n",
      "\u001b[0;32m~/thesis/fastai/basic_train.py\u001b[0m in \u001b[0;36mfit\u001b[0;34m(self, epochs, lr, wd, callbacks)\u001b[0m\n\u001b[1;32m    198\u001b[0m         \u001b[0;32melse\u001b[0m\u001b[0;34m:\u001b[0m \u001b[0mself\u001b[0m\u001b[0;34m.\u001b[0m\u001b[0mopt\u001b[0m\u001b[0;34m.\u001b[0m\u001b[0mlr\u001b[0m\u001b[0;34m,\u001b[0m\u001b[0mself\u001b[0m\u001b[0;34m.\u001b[0m\u001b[0mopt\u001b[0m\u001b[0;34m.\u001b[0m\u001b[0mwd\u001b[0m \u001b[0;34m=\u001b[0m \u001b[0mlr\u001b[0m\u001b[0;34m,\u001b[0m\u001b[0mwd\u001b[0m\u001b[0;34m\u001b[0m\u001b[0;34m\u001b[0m\u001b[0m\n\u001b[1;32m    199\u001b[0m         \u001b[0mcallbacks\u001b[0m \u001b[0;34m=\u001b[0m \u001b[0;34m[\u001b[0m\u001b[0mcb\u001b[0m\u001b[0;34m(\u001b[0m\u001b[0mself\u001b[0m\u001b[0;34m)\u001b[0m \u001b[0;32mfor\u001b[0m \u001b[0mcb\u001b[0m \u001b[0;32min\u001b[0m \u001b[0mself\u001b[0m\u001b[0;34m.\u001b[0m\u001b[0mcallback_fns\u001b[0m \u001b[0;34m+\u001b[0m \u001b[0mlistify\u001b[0m\u001b[0;34m(\u001b[0m\u001b[0mdefaults\u001b[0m\u001b[0;34m.\u001b[0m\u001b[0mextra_callback_fns\u001b[0m\u001b[0;34m)\u001b[0m\u001b[0;34m]\u001b[0m \u001b[0;34m+\u001b[0m \u001b[0mlistify\u001b[0m\u001b[0;34m(\u001b[0m\u001b[0mcallbacks\u001b[0m\u001b[0;34m)\u001b[0m\u001b[0;34m\u001b[0m\u001b[0;34m\u001b[0m\u001b[0m\n\u001b[0;32m--> 200\u001b[0;31m         \u001b[0mfit\u001b[0m\u001b[0;34m(\u001b[0m\u001b[0mepochs\u001b[0m\u001b[0;34m,\u001b[0m \u001b[0mself\u001b[0m\u001b[0;34m,\u001b[0m \u001b[0mmetrics\u001b[0m\u001b[0;34m=\u001b[0m\u001b[0mself\u001b[0m\u001b[0;34m.\u001b[0m\u001b[0mmetrics\u001b[0m\u001b[0;34m,\u001b[0m \u001b[0mcallbacks\u001b[0m\u001b[0;34m=\u001b[0m\u001b[0mself\u001b[0m\u001b[0;34m.\u001b[0m\u001b[0mcallbacks\u001b[0m\u001b[0;34m+\u001b[0m\u001b[0mcallbacks\u001b[0m\u001b[0;34m)\u001b[0m\u001b[0;34m\u001b[0m\u001b[0;34m\u001b[0m\u001b[0m\n\u001b[0m\u001b[1;32m    201\u001b[0m \u001b[0;34m\u001b[0m\u001b[0m\n\u001b[1;32m    202\u001b[0m     \u001b[0;32mdef\u001b[0m \u001b[0mcreate_opt\u001b[0m\u001b[0;34m(\u001b[0m\u001b[0mself\u001b[0m\u001b[0;34m,\u001b[0m \u001b[0mlr\u001b[0m\u001b[0;34m:\u001b[0m\u001b[0mFloats\u001b[0m\u001b[0;34m,\u001b[0m \u001b[0mwd\u001b[0m\u001b[0;34m:\u001b[0m\u001b[0mFloats\u001b[0m\u001b[0;34m=\u001b[0m\u001b[0;36m0.\u001b[0m\u001b[0;34m)\u001b[0m\u001b[0;34m->\u001b[0m\u001b[0;32mNone\u001b[0m\u001b[0;34m:\u001b[0m\u001b[0;34m\u001b[0m\u001b[0;34m\u001b[0m\u001b[0m\n",
      "\u001b[0;32m~/thesis/fastai/basic_train.py\u001b[0m in \u001b[0;36mfit\u001b[0;34m(epochs, learn, callbacks, metrics)\u001b[0m\n\u001b[1;32m     97\u001b[0m             \u001b[0mcb_handler\u001b[0m\u001b[0;34m.\u001b[0m\u001b[0mset_dl\u001b[0m\u001b[0;34m(\u001b[0m\u001b[0mlearn\u001b[0m\u001b[0;34m.\u001b[0m\u001b[0mdata\u001b[0m\u001b[0;34m.\u001b[0m\u001b[0mtrain_dl\u001b[0m\u001b[0;34m)\u001b[0m\u001b[0;34m\u001b[0m\u001b[0;34m\u001b[0m\u001b[0m\n\u001b[1;32m     98\u001b[0m             \u001b[0mcb_handler\u001b[0m\u001b[0;34m.\u001b[0m\u001b[0mon_epoch_begin\u001b[0m\u001b[0;34m(\u001b[0m\u001b[0;34m)\u001b[0m\u001b[0;34m\u001b[0m\u001b[0;34m\u001b[0m\u001b[0m\n\u001b[0;32m---> 99\u001b[0;31m             \u001b[0;32mfor\u001b[0m \u001b[0mxb\u001b[0m\u001b[0;34m,\u001b[0m\u001b[0myb\u001b[0m \u001b[0;32min\u001b[0m \u001b[0mprogress_bar\u001b[0m\u001b[0;34m(\u001b[0m\u001b[0mlearn\u001b[0m\u001b[0;34m.\u001b[0m\u001b[0mdata\u001b[0m\u001b[0;34m.\u001b[0m\u001b[0mtrain_dl\u001b[0m\u001b[0;34m,\u001b[0m \u001b[0mparent\u001b[0m\u001b[0;34m=\u001b[0m\u001b[0mpbar\u001b[0m\u001b[0;34m)\u001b[0m\u001b[0;34m:\u001b[0m\u001b[0;34m\u001b[0m\u001b[0;34m\u001b[0m\u001b[0m\n\u001b[0m\u001b[1;32m    100\u001b[0m                 \u001b[0mxb\u001b[0m\u001b[0;34m,\u001b[0m \u001b[0myb\u001b[0m \u001b[0;34m=\u001b[0m \u001b[0mcb_handler\u001b[0m\u001b[0;34m.\u001b[0m\u001b[0mon_batch_begin\u001b[0m\u001b[0;34m(\u001b[0m\u001b[0mxb\u001b[0m\u001b[0;34m,\u001b[0m \u001b[0myb\u001b[0m\u001b[0;34m)\u001b[0m\u001b[0;34m\u001b[0m\u001b[0;34m\u001b[0m\u001b[0m\n\u001b[1;32m    101\u001b[0m                 \u001b[0mloss\u001b[0m \u001b[0;34m=\u001b[0m \u001b[0mloss_batch\u001b[0m\u001b[0;34m(\u001b[0m\u001b[0mlearn\u001b[0m\u001b[0;34m.\u001b[0m\u001b[0mmodel\u001b[0m\u001b[0;34m,\u001b[0m \u001b[0mxb\u001b[0m\u001b[0;34m,\u001b[0m \u001b[0myb\u001b[0m\u001b[0;34m,\u001b[0m \u001b[0mlearn\u001b[0m\u001b[0;34m.\u001b[0m\u001b[0mloss_func\u001b[0m\u001b[0;34m,\u001b[0m \u001b[0mlearn\u001b[0m\u001b[0;34m.\u001b[0m\u001b[0mopt\u001b[0m\u001b[0;34m,\u001b[0m \u001b[0mcb_handler\u001b[0m\u001b[0;34m)\u001b[0m\u001b[0;34m\u001b[0m\u001b[0;34m\u001b[0m\u001b[0m\n",
      "\u001b[0;32m~/miniconda3/lib/python3.7/site-packages/fastprogress/fastprogress.py\u001b[0m in \u001b[0;36m__iter__\u001b[0;34m(self)\u001b[0m\n\u001b[1;32m     39\u001b[0m         \u001b[0;32mif\u001b[0m \u001b[0mself\u001b[0m\u001b[0;34m.\u001b[0m\u001b[0mtotal\u001b[0m \u001b[0;34m!=\u001b[0m \u001b[0;36m0\u001b[0m\u001b[0;34m:\u001b[0m \u001b[0mself\u001b[0m\u001b[0;34m.\u001b[0m\u001b[0mupdate\u001b[0m\u001b[0;34m(\u001b[0m\u001b[0;36m0\u001b[0m\u001b[0;34m)\u001b[0m\u001b[0;34m\u001b[0m\u001b[0;34m\u001b[0m\u001b[0m\n\u001b[1;32m     40\u001b[0m         \u001b[0;32mtry\u001b[0m\u001b[0;34m:\u001b[0m\u001b[0;34m\u001b[0m\u001b[0;34m\u001b[0m\u001b[0m\n\u001b[0;32m---> 41\u001b[0;31m             \u001b[0;32mfor\u001b[0m \u001b[0mi\u001b[0m\u001b[0;34m,\u001b[0m\u001b[0mo\u001b[0m \u001b[0;32min\u001b[0m \u001b[0menumerate\u001b[0m\u001b[0;34m(\u001b[0m\u001b[0mself\u001b[0m\u001b[0;34m.\u001b[0m\u001b[0mgen\u001b[0m\u001b[0;34m)\u001b[0m\u001b[0;34m:\u001b[0m\u001b[0;34m\u001b[0m\u001b[0;34m\u001b[0m\u001b[0m\n\u001b[0m\u001b[1;32m     42\u001b[0m                 \u001b[0;32mif\u001b[0m \u001b[0mi\u001b[0m \u001b[0;34m>=\u001b[0m \u001b[0mself\u001b[0m\u001b[0;34m.\u001b[0m\u001b[0mtotal\u001b[0m\u001b[0;34m:\u001b[0m \u001b[0;32mbreak\u001b[0m\u001b[0;34m\u001b[0m\u001b[0;34m\u001b[0m\u001b[0m\n\u001b[1;32m     43\u001b[0m                 \u001b[0;32myield\u001b[0m \u001b[0mo\u001b[0m\u001b[0;34m\u001b[0m\u001b[0;34m\u001b[0m\u001b[0m\n",
      "\u001b[0;32m~/thesis/fastai/basic_data.py\u001b[0m in \u001b[0;36m__iter__\u001b[0;34m(self)\u001b[0m\n\u001b[1;32m     73\u001b[0m     \u001b[0;32mdef\u001b[0m \u001b[0m__iter__\u001b[0m\u001b[0;34m(\u001b[0m\u001b[0mself\u001b[0m\u001b[0;34m)\u001b[0m\u001b[0;34m:\u001b[0m\u001b[0;34m\u001b[0m\u001b[0;34m\u001b[0m\u001b[0m\n\u001b[1;32m     74\u001b[0m         \u001b[0;34m\"Process and returns items from `DataLoader`.\"\u001b[0m\u001b[0;34m\u001b[0m\u001b[0;34m\u001b[0m\u001b[0m\n\u001b[0;32m---> 75\u001b[0;31m         \u001b[0;32mfor\u001b[0m \u001b[0mb\u001b[0m \u001b[0;32min\u001b[0m \u001b[0mself\u001b[0m\u001b[0;34m.\u001b[0m\u001b[0mdl\u001b[0m\u001b[0;34m:\u001b[0m \u001b[0;32myield\u001b[0m \u001b[0mself\u001b[0m\u001b[0;34m.\u001b[0m\u001b[0mproc_batch\u001b[0m\u001b[0;34m(\u001b[0m\u001b[0mb\u001b[0m\u001b[0;34m)\u001b[0m\u001b[0;34m\u001b[0m\u001b[0;34m\u001b[0m\u001b[0m\n\u001b[0m\u001b[1;32m     76\u001b[0m \u001b[0;34m\u001b[0m\u001b[0m\n\u001b[1;32m     77\u001b[0m     \u001b[0;34m@\u001b[0m\u001b[0mclassmethod\u001b[0m\u001b[0;34m\u001b[0m\u001b[0;34m\u001b[0m\u001b[0m\n",
      "\u001b[0;32m~/miniconda3/lib/python3.7/site-packages/torch/utils/data/dataloader.py\u001b[0m in \u001b[0;36m__next__\u001b[0;34m(self)\u001b[0m\n\u001b[1;32m    343\u001b[0m \u001b[0;34m\u001b[0m\u001b[0m\n\u001b[1;32m    344\u001b[0m     \u001b[0;32mdef\u001b[0m \u001b[0m__next__\u001b[0m\u001b[0;34m(\u001b[0m\u001b[0mself\u001b[0m\u001b[0;34m)\u001b[0m\u001b[0;34m:\u001b[0m\u001b[0;34m\u001b[0m\u001b[0;34m\u001b[0m\u001b[0m\n\u001b[0;32m--> 345\u001b[0;31m         \u001b[0mdata\u001b[0m \u001b[0;34m=\u001b[0m \u001b[0mself\u001b[0m\u001b[0;34m.\u001b[0m\u001b[0m_next_data\u001b[0m\u001b[0;34m(\u001b[0m\u001b[0;34m)\u001b[0m\u001b[0;34m\u001b[0m\u001b[0;34m\u001b[0m\u001b[0m\n\u001b[0m\u001b[1;32m    346\u001b[0m         \u001b[0mself\u001b[0m\u001b[0;34m.\u001b[0m\u001b[0m_num_yielded\u001b[0m \u001b[0;34m+=\u001b[0m \u001b[0;36m1\u001b[0m\u001b[0;34m\u001b[0m\u001b[0;34m\u001b[0m\u001b[0m\n\u001b[1;32m    347\u001b[0m         \u001b[0;32mif\u001b[0m \u001b[0mself\u001b[0m\u001b[0;34m.\u001b[0m\u001b[0m_dataset_kind\u001b[0m \u001b[0;34m==\u001b[0m \u001b[0m_DatasetKind\u001b[0m\u001b[0;34m.\u001b[0m\u001b[0mIterable\u001b[0m \u001b[0;32mand\u001b[0m\u001b[0;31m \u001b[0m\u001b[0;31m\\\u001b[0m\u001b[0;34m\u001b[0m\u001b[0;34m\u001b[0m\u001b[0m\n",
      "\u001b[0;32m~/miniconda3/lib/python3.7/site-packages/torch/utils/data/dataloader.py\u001b[0m in \u001b[0;36m_next_data\u001b[0;34m(self)\u001b[0m\n\u001b[1;32m    839\u001b[0m \u001b[0;34m\u001b[0m\u001b[0m\n\u001b[1;32m    840\u001b[0m             \u001b[0;32massert\u001b[0m \u001b[0;32mnot\u001b[0m \u001b[0mself\u001b[0m\u001b[0;34m.\u001b[0m\u001b[0m_shutdown\u001b[0m \u001b[0;32mand\u001b[0m \u001b[0mself\u001b[0m\u001b[0;34m.\u001b[0m\u001b[0m_tasks_outstanding\u001b[0m \u001b[0;34m>\u001b[0m \u001b[0;36m0\u001b[0m\u001b[0;34m\u001b[0m\u001b[0;34m\u001b[0m\u001b[0m\n\u001b[0;32m--> 841\u001b[0;31m             \u001b[0midx\u001b[0m\u001b[0;34m,\u001b[0m \u001b[0mdata\u001b[0m \u001b[0;34m=\u001b[0m \u001b[0mself\u001b[0m\u001b[0;34m.\u001b[0m\u001b[0m_get_data\u001b[0m\u001b[0;34m(\u001b[0m\u001b[0;34m)\u001b[0m\u001b[0;34m\u001b[0m\u001b[0;34m\u001b[0m\u001b[0m\n\u001b[0m\u001b[1;32m    842\u001b[0m             \u001b[0mself\u001b[0m\u001b[0;34m.\u001b[0m\u001b[0m_tasks_outstanding\u001b[0m \u001b[0;34m-=\u001b[0m \u001b[0;36m1\u001b[0m\u001b[0;34m\u001b[0m\u001b[0;34m\u001b[0m\u001b[0m\n\u001b[1;32m    843\u001b[0m \u001b[0;34m\u001b[0m\u001b[0m\n",
      "\u001b[0;32m~/miniconda3/lib/python3.7/site-packages/torch/utils/data/dataloader.py\u001b[0m in \u001b[0;36m_get_data\u001b[0;34m(self)\u001b[0m\n\u001b[1;32m    796\u001b[0m         \u001b[0;32melif\u001b[0m \u001b[0mself\u001b[0m\u001b[0;34m.\u001b[0m\u001b[0m_pin_memory\u001b[0m\u001b[0;34m:\u001b[0m\u001b[0;34m\u001b[0m\u001b[0;34m\u001b[0m\u001b[0m\n\u001b[1;32m    797\u001b[0m             \u001b[0;32mwhile\u001b[0m \u001b[0mself\u001b[0m\u001b[0;34m.\u001b[0m\u001b[0m_pin_memory_thread\u001b[0m\u001b[0;34m.\u001b[0m\u001b[0mis_alive\u001b[0m\u001b[0;34m(\u001b[0m\u001b[0;34m)\u001b[0m\u001b[0;34m:\u001b[0m\u001b[0;34m\u001b[0m\u001b[0;34m\u001b[0m\u001b[0m\n\u001b[0;32m--> 798\u001b[0;31m                 \u001b[0msuccess\u001b[0m\u001b[0;34m,\u001b[0m \u001b[0mdata\u001b[0m \u001b[0;34m=\u001b[0m \u001b[0mself\u001b[0m\u001b[0;34m.\u001b[0m\u001b[0m_try_get_data\u001b[0m\u001b[0;34m(\u001b[0m\u001b[0;34m)\u001b[0m\u001b[0;34m\u001b[0m\u001b[0;34m\u001b[0m\u001b[0m\n\u001b[0m\u001b[1;32m    799\u001b[0m                 \u001b[0;32mif\u001b[0m \u001b[0msuccess\u001b[0m\u001b[0;34m:\u001b[0m\u001b[0;34m\u001b[0m\u001b[0;34m\u001b[0m\u001b[0m\n\u001b[1;32m    800\u001b[0m                     \u001b[0;32mreturn\u001b[0m \u001b[0mdata\u001b[0m\u001b[0;34m\u001b[0m\u001b[0;34m\u001b[0m\u001b[0m\n",
      "\u001b[0;32m~/miniconda3/lib/python3.7/site-packages/torch/utils/data/dataloader.py\u001b[0m in \u001b[0;36m_try_get_data\u001b[0;34m(self, timeout)\u001b[0m\n\u001b[1;32m    759\u001b[0m         \u001b[0;31m#   (bool: whether successfully get data, any: data if successful else None)\u001b[0m\u001b[0;34m\u001b[0m\u001b[0;34m\u001b[0m\u001b[0;34m\u001b[0m\u001b[0m\n\u001b[1;32m    760\u001b[0m         \u001b[0;32mtry\u001b[0m\u001b[0;34m:\u001b[0m\u001b[0;34m\u001b[0m\u001b[0;34m\u001b[0m\u001b[0m\n\u001b[0;32m--> 761\u001b[0;31m             \u001b[0mdata\u001b[0m \u001b[0;34m=\u001b[0m \u001b[0mself\u001b[0m\u001b[0;34m.\u001b[0m\u001b[0m_data_queue\u001b[0m\u001b[0;34m.\u001b[0m\u001b[0mget\u001b[0m\u001b[0;34m(\u001b[0m\u001b[0mtimeout\u001b[0m\u001b[0;34m=\u001b[0m\u001b[0mtimeout\u001b[0m\u001b[0;34m)\u001b[0m\u001b[0;34m\u001b[0m\u001b[0;34m\u001b[0m\u001b[0m\n\u001b[0m\u001b[1;32m    762\u001b[0m             \u001b[0;32mreturn\u001b[0m \u001b[0;34m(\u001b[0m\u001b[0;32mTrue\u001b[0m\u001b[0;34m,\u001b[0m \u001b[0mdata\u001b[0m\u001b[0;34m)\u001b[0m\u001b[0;34m\u001b[0m\u001b[0;34m\u001b[0m\u001b[0m\n\u001b[1;32m    763\u001b[0m         \u001b[0;32mexcept\u001b[0m \u001b[0mException\u001b[0m \u001b[0;32mas\u001b[0m \u001b[0me\u001b[0m\u001b[0;34m:\u001b[0m\u001b[0;34m\u001b[0m\u001b[0;34m\u001b[0m\u001b[0m\n",
      "\u001b[0;32m~/miniconda3/lib/python3.7/queue.py\u001b[0m in \u001b[0;36mget\u001b[0;34m(self, block, timeout)\u001b[0m\n\u001b[1;32m    177\u001b[0m                     \u001b[0;32mif\u001b[0m \u001b[0mremaining\u001b[0m \u001b[0;34m<=\u001b[0m \u001b[0;36m0.0\u001b[0m\u001b[0;34m:\u001b[0m\u001b[0;34m\u001b[0m\u001b[0;34m\u001b[0m\u001b[0m\n\u001b[1;32m    178\u001b[0m                         \u001b[0;32mraise\u001b[0m \u001b[0mEmpty\u001b[0m\u001b[0;34m\u001b[0m\u001b[0;34m\u001b[0m\u001b[0m\n\u001b[0;32m--> 179\u001b[0;31m                     \u001b[0mself\u001b[0m\u001b[0;34m.\u001b[0m\u001b[0mnot_empty\u001b[0m\u001b[0;34m.\u001b[0m\u001b[0mwait\u001b[0m\u001b[0;34m(\u001b[0m\u001b[0mremaining\u001b[0m\u001b[0;34m)\u001b[0m\u001b[0;34m\u001b[0m\u001b[0;34m\u001b[0m\u001b[0m\n\u001b[0m\u001b[1;32m    180\u001b[0m             \u001b[0mitem\u001b[0m \u001b[0;34m=\u001b[0m \u001b[0mself\u001b[0m\u001b[0;34m.\u001b[0m\u001b[0m_get\u001b[0m\u001b[0;34m(\u001b[0m\u001b[0;34m)\u001b[0m\u001b[0;34m\u001b[0m\u001b[0;34m\u001b[0m\u001b[0m\n\u001b[1;32m    181\u001b[0m             \u001b[0mself\u001b[0m\u001b[0;34m.\u001b[0m\u001b[0mnot_full\u001b[0m\u001b[0;34m.\u001b[0m\u001b[0mnotify\u001b[0m\u001b[0;34m(\u001b[0m\u001b[0;34m)\u001b[0m\u001b[0;34m\u001b[0m\u001b[0;34m\u001b[0m\u001b[0m\n",
      "\u001b[0;32m~/miniconda3/lib/python3.7/threading.py\u001b[0m in \u001b[0;36mwait\u001b[0;34m(self, timeout)\u001b[0m\n\u001b[1;32m    298\u001b[0m             \u001b[0;32melse\u001b[0m\u001b[0;34m:\u001b[0m\u001b[0;34m\u001b[0m\u001b[0;34m\u001b[0m\u001b[0m\n\u001b[1;32m    299\u001b[0m                 \u001b[0;32mif\u001b[0m \u001b[0mtimeout\u001b[0m \u001b[0;34m>\u001b[0m \u001b[0;36m0\u001b[0m\u001b[0;34m:\u001b[0m\u001b[0;34m\u001b[0m\u001b[0;34m\u001b[0m\u001b[0m\n\u001b[0;32m--> 300\u001b[0;31m                     \u001b[0mgotit\u001b[0m \u001b[0;34m=\u001b[0m \u001b[0mwaiter\u001b[0m\u001b[0;34m.\u001b[0m\u001b[0macquire\u001b[0m\u001b[0;34m(\u001b[0m\u001b[0;32mTrue\u001b[0m\u001b[0;34m,\u001b[0m \u001b[0mtimeout\u001b[0m\u001b[0;34m)\u001b[0m\u001b[0;34m\u001b[0m\u001b[0;34m\u001b[0m\u001b[0m\n\u001b[0m\u001b[1;32m    301\u001b[0m                 \u001b[0;32melse\u001b[0m\u001b[0;34m:\u001b[0m\u001b[0;34m\u001b[0m\u001b[0;34m\u001b[0m\u001b[0m\n\u001b[1;32m    302\u001b[0m                     \u001b[0mgotit\u001b[0m \u001b[0;34m=\u001b[0m \u001b[0mwaiter\u001b[0m\u001b[0;34m.\u001b[0m\u001b[0macquire\u001b[0m\u001b[0;34m(\u001b[0m\u001b[0;32mFalse\u001b[0m\u001b[0;34m)\u001b[0m\u001b[0;34m\u001b[0m\u001b[0;34m\u001b[0m\u001b[0m\n",
      "\u001b[0;31mKeyboardInterrupt\u001b[0m: "
     ]
    },
    {
     "data": {
      "image/png": "[encoded data removed]",
      "text/plain": [
       "<Figure size 432x288 with 1 Axes>"
      ]
     },
     "metadata": {
      "needs_background": "light"
     },
     "output_type": "display_data"
    }
   ],
   "source": [
    "gc.collect();\n",
    "#test_run(learn_gen, epochs = 4)\n",
    "train_model(run_id, learn_gen, pretraining=False)"
   ]
  },
  {
   "cell_type": "markdown",
   "metadata": {},
   "source": [
    "# Export"
   ]
  },
  {
   "cell_type": "code",
   "execution_count": null,
   "metadata": {},
   "outputs": [
    {
     "name": "stdout",
     "output_type": "stream",
     "text": [
      "Converted 00_core.ipynb.\n",
      "Converted 01_utils.ipynb.\n",
      "Converted 0__template.ipynb.\n",
      "Converted 10_data.ipynb.\n",
      "Converted 11_div2k.ipynb.\n",
      "Converted 12_realsr.ipynb.\n",
      "Converted 20_metrics.ipynb.\n",
      "Converted 21_loss.ipynb.\n",
      "Converted 22_callbacks.ipynb.\n",
      "Converted 23_tensorboard.ipynb.\n",
      "Converted 31_generator_learner.ipynb.\n",
      "Converted 32_critic_learner.ipynb.\n",
      "Converted 41_generator_pretraining.ipynb.\n",
      "Converted 42_critic_pretraining.ipynb.\n",
      "Converted 43_gan_training.ipynb.\n",
      "Converted EXPERIMENTS JOURNAL.ipynb.\n",
      "Converted augmentations.ipynb.\n",
      "Converted graphs-tests.ipynb.\n",
      "Converted sr reference.ipynb.\n"
     ]
    }
   ],
   "source": [
    "%nbdev_hide\n",
    "notebook2script()"
   ]
  },
  {
   "cell_type": "code",
   "execution_count": null,
   "metadata": {},
   "outputs": [],
   "source": []
  }
 ],
 "metadata": {
  "kernelspec": {
   "display_name": "Python 3",
   "language": "python",
   "name": "python3"
  }
 },
 "nbformat": 4,
 "nbformat_minor": 4
}
