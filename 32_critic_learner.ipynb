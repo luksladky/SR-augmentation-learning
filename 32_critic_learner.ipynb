{
 "cells": [
  {
   "cell_type": "code",
   "execution_count": null,
   "metadata": {},
   "outputs": [
    {
     "name": "stdout",
     "output_type": "stream",
     "text": [
      "Cells will be exported to srthesis.model,\n",
      "unless a different module is specified after an export flag: `%nbdev_export special.module`\n"
     ]
    }
   ],
   "source": [
    "from nbdev import *\n",
    "%nbdev_default_export model"
   ]
  },
  {
   "cell_type": "markdown",
   "metadata": {},
   "source": [
    "# Critic learner"
   ]
  },
  {
   "cell_type": "code",
   "execution_count": null,
   "metadata": {},
   "outputs": [],
   "source": [
    "%nbdev_export_internal\n",
    "from fastai.core import *\n",
    "from fastai.torch_core import *\n",
    "from fastai.vision import *\n",
    "from fastai.vision.gan import AdaptiveLoss, accuracy_thresh_expand"
   ]
  },
  {
   "cell_type": "code",
   "execution_count": null,
   "metadata": {},
   "outputs": [],
   "source": [
    "%nbdev_export_internal\n",
    "_conv_args = dict(leaky=0.2, norm_type=NormType.Spectral)\n",
    "\n",
    "\n",
    "def _conv(ni: int, nf: int, ks: int = 3, stride: int = 1, **kwargs):\n",
    "    return conv_layer(ni, nf, ks=ks, stride=stride, **_conv_args, **kwargs)"
   ]
  },
  {
   "cell_type": "code",
   "execution_count": null,
   "metadata": {},
   "outputs": [],
   "source": [
    "%nbdev_export\n",
    "def custom_gan_critic(\n",
    "    n_channels: int = 3, nf: int = 256, n_blocks: int = 3, p: int = 0.15\n",
    "):\n",
    "    \"Critic to train a `GAN`.\"\n",
    "    layers = [_conv(n_channels, nf, ks=4, stride=2), nn.Dropout2d(p / 2)]\n",
    "    for i in range(n_blocks):\n",
    "        layers += [\n",
    "            _conv(nf, nf, ks=3, stride=1),\n",
    "            nn.Dropout2d(p),\n",
    "            _conv(nf, nf * 2, ks=4, stride=2, self_attention=(i == 0)),\n",
    "        ]\n",
    "        nf *= 2\n",
    "    layers += [\n",
    "        _conv(nf, nf, ks=3, stride=1),\n",
    "        _conv(nf, 1, ks=4, bias=False, padding=0, use_activ=False),\n",
    "        Flatten(),\n",
    "    ]\n",
    "    return nn.Sequential(*layers)"
   ]
  },
  {
   "cell_type": "code",
   "execution_count": null,
   "metadata": {},
   "outputs": [],
   "source": [
    "%nbdev_export\n",
    "def critic_learner(\n",
    "    data: ImageDataBunch,\n",
    "    loss_critic=AdaptiveLoss(nn.BCEWithLogitsLoss()),\n",
    "    nf: int = 256,\n",
    ") -> Learner:\n",
    "    return Learner(\n",
    "        data,\n",
    "        custom_gan_critic(nf=nf),\n",
    "        metrics=accuracy_thresh_expand,\n",
    "        loss_func=loss_critic,\n",
    "        wd=1e-3,\n",
    "    )"
   ]
  },
  {
   "cell_type": "code",
   "execution_count": null,
   "metadata": {},
   "outputs": [
    {
     "name": "stdout",
     "output_type": "stream",
     "text": [
      "Converted 00_core.ipynb.\n",
      "Converted 01_utils.ipynb.\n",
      "Converted 0__template.ipynb.\n",
      "Converted 10_div2k.ipynb.\n",
      "Converted 20_metrics.ipynb.\n",
      "Converted 21_loss.ipynb.\n",
      "Converted 22_callbacks.ipynb.\n",
      "Converted 23_tensorboard.ipynb.\n",
      "Converted 31_critic_learner.ipynb.\n",
      "Converted augmentations.ipynb.\n",
      "Converted sr reference.ipynb.\n"
     ]
    }
   ],
   "source": [
    "%nbdev_hide\n",
    "notebook2script()"
   ]
  },
  {
   "cell_type": "code",
   "execution_count": null,
   "metadata": {},
   "outputs": [],
   "source": []
  }
 ],
 "metadata": {
  "kernelspec": {
   "display_name": "Python 3",
   "language": "python",
   "name": "python3"
  }
 },
 "nbformat": 4,
 "nbformat_minor": 4
}
